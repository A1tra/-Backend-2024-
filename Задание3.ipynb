{
  "nbformat": 4,
  "nbformat_minor": 0,
  "metadata": {
    "colab": {
      "provenance": []
    },
    "kernelspec": {
      "name": "python3",
      "display_name": "Python 3"
    },
    "language_info": {
      "name": "python"
    }
  },
  "cells": [
    {
      "cell_type": "code",
      "execution_count": null,
      "metadata": {
        "id": "1pVjj4_hXYfx"
      },
      "outputs": [],
      "source": [
        "def SumToBig(mas): #сама функция\n",
        "  sumbig = 0 #переменная для ответа\n",
        "  sumbig += max(mas) #прибавляем максимальный элемент\n",
        "  mas.remove(sumbig) #и удаляем его из списка\n",
        "  sumbig += max(mas) #снова прибавляем максимальный элемент\n",
        "  return sumbig #возвращаем результат\n",
        "\n",
        "mas = list(map(int, input().split())) #ввод массива\n",
        "print(SumToBig(mas))"
      ]
    }
  ]
}