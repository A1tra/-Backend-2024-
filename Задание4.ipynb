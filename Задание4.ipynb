{
  "nbformat": 4,
  "nbformat_minor": 0,
  "metadata": {
    "colab": {
      "provenance": []
    },
    "kernelspec": {
      "name": "python3",
      "display_name": "Python 3"
    },
    "language_info": {
      "name": "python"
    }
  },
  "cells": [
    {
      "cell_type": "code",
      "execution_count": null,
      "metadata": {
        "id": "1pVjj4_hXYfx"
      },
      "outputs": [],
      "source": [
        "def binsource(mas, n): #функция бинарного поиска\n",
        "  low = 0 #первый индекс\n",
        "  high = len(mas)-1 #последний индекс\n",
        "  middle = len(mas)//2 #индекс числа посередине\n",
        "  while (mas[middle] != n) and (low < high): #проверка условий окончания цикла\n",
        "    if n < mas[middle]: #если число не совпадает с серединой и меньше\n",
        "      high = middle - 1 #смещаем вверхний индекс, так как в правой стороне его точно не\n",
        "    else:\n",
        "      low = middle + 1 #иначе смещаем нижний индекс\n",
        "    middle = (low + high) // 2 #снова вычисляем середину\n",
        "  if mas[middle] == n: #если число нашли, выводим\n",
        "    return middle\n",
        "  else:\n",
        "    return -1\n",
        "\n",
        "mas = sorted(list(map(int, input().split()))) #ввод списка\n",
        "n = int(input()) #ввод искомого числа\n",
        "print(binsource(mas, n))"
      ]
    }
  ]
}