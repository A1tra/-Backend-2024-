{
  "nbformat": 4,
  "nbformat_minor": 0,
  "metadata": {
    "colab": {
      "provenance": []
    },
    "kernelspec": {
      "name": "python3",
      "display_name": "Python 3"
    },
    "language_info": {
      "name": "python"
    }
  },
  "cells": [
    {
      "cell_type": "code",
      "execution_count": null,
      "metadata": {
        "id": "1pVjj4_hXYfx"
      },
      "outputs": [],
      "source": [
        "masA = list(map(int, input().split())) #ввод массивов\n",
        "masB = list(map(int, input().split()))\n",
        "\n",
        "mas = [] #массив для ответа\n",
        "for x in masB: #пробегаем по массиву B\n",
        "  for y in masA: #пробегаем по массиву A и ищем соответсвия с элементом из массива B\n",
        "    if y == x:\n",
        "      masA.remove(y) #чистим массив A от элементов, которые есть в массиве B\n",
        "      mas.append(y) #добавляем элемент в массив для ответа\n",
        "mas += sorted(masA, reverse = True) #соединяем массив для ответа и оставшиеся элементы из массива A\n",
        "print(mas)"
      ]
    }
  ]
}