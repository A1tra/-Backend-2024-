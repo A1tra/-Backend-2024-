{
  "nbformat": 4,
  "nbformat_minor": 0,
  "metadata": {
    "colab": {
      "provenance": []
    },
    "kernelspec": {
      "name": "python3",
      "display_name": "Python 3"
    },
    "language_info": {
      "name": "python"
    }
  },
  "cells": [
    {
      "cell_type": "code",
      "execution_count": null,
      "metadata": {
        "id": "1pVjj4_hXYfx"
      },
      "outputs": [],
      "source": [
        "def qsort(mas): #функция быстрой сортировки\n",
        "  if len(mas)<=1: #условие завершения рекурсии\n",
        "    return mas\n",
        "\n",
        "  middle = mas[len(mas)//2] #выбираем центральный элемент\n",
        "  left = [x for x in mas if x < midle] #сортируем по левую сторону числа меньше элемента\n",
        "  right = [x for x in mas if x > midle] #по правую - больше\n",
        "\n",
        "  return qsort(left)+[midle]+qsort(right) #рекурсивно вызываем и соединяем\n",
        "\n",
        "mas = list(map(int, input().split())) #Ввод массива\n",
        "print(qsort(mas))"
      ]
    }
  ]
}