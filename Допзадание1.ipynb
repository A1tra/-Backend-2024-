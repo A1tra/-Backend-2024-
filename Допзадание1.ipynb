{
  "nbformat": 4,
  "nbformat_minor": 0,
  "metadata": {
    "colab": {
      "provenance": []
    },
    "kernelspec": {
      "name": "python3",
      "display_name": "Python 3"
    },
    "language_info": {
      "name": "python"
    }
  },
  "cells": [
    {
      "cell_type": "code",
      "execution_count": null,
      "metadata": {
        "id": "1pVjj4_hXYfx"
      },
      "outputs": [],
      "source": [
        "def par(s, i):\n",
        "  if s[i+1] != ')': #если рядом нет закрывающей скобки, возвращаем false\n",
        "    return False\n",
        "  else:\n",
        "    return True\n",
        "\n",
        "def sq(s, i):\n",
        "  if s[i+1] != ']':\n",
        "    return False\n",
        "  else:\n",
        "    return True\n",
        "\n",
        "def cur(s, i):\n",
        "  s[i] = '' #\"убираем открывающую скобку\"\n",
        "  while i <= len(s): #ищем закрывающую\n",
        "    i+=1\n",
        "    if s[i] == '}': #если находим, убираем ее и возвращаем true\n",
        "      s[i] = ''\n",
        "      return True\n",
        "  return False #если закрывающая скобка так и не была найдена, автоматом возвращаем false\n",
        "\n",
        "def corbra(s): #главная функция\n",
        "  a = True #задаем проверку на ошибку\n",
        "  for i in range(len(s)): #начинаем пробег по списку\n",
        "    if s[i] == '(': #если находим открывающую скобку,\n",
        "      a = par(s, i) #вызываем соответсвующую функцию\n",
        "    else:\n",
        "      if s[i] == '[':\n",
        "        a = sq(s, i)\n",
        "      else:\n",
        "        if s[i] == '{':\n",
        "          a = cur(s, i)\n",
        "        else:\n",
        "          if s[i] == '}':\n",
        "            #если найдена закрывающая скобка, значит не было открывающей для нее скобки\n",
        "            a = False\n",
        "    if a == False: #завершая цикл, делаем проверку\n",
        "      print(\"Incorrect\")\n",
        "      break #если false, то прерываем цикл за ненадобностью дальнейших проверок\n",
        "  if a == True:\n",
        "    print(\"Correct\")\n",
        "\n",
        "#вводится строка, в которой убираются пробелы, и преобразуется в список\n",
        "s = list(input().replace(' ', ''))\n",
        "corbra(s)"
      ]
    }
  ]
}